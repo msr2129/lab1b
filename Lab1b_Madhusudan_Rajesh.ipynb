{
 "cells": [
  {
   "cell_type": "markdown",
   "metadata": {
    "id": "HQA2Jl7_8ueN"
   },
   "source": [
    "# Lab1b\n",
    "---\n",
    "Class: DSCI 510 (Hermjakob), Spring 2025, USC\n",
    "\n",
    "Hello and welcome to Lab1b.\n",
    "\n",
    "__Guidelines:__\n",
    "\n",
    "- Please write the programs below and submit this notebook by the deadline: Monday, January 27, 2025 at 6:00pm Pacific time\n",
    "\n",
    "- You must complete the assignments individually. If you have trouble completing the assignment, please let one of the teaching assistants (TAs) know, during the lab or their office hours. They will help and guide you, but they will not write code for you and no one else should :) !!!  \n",
    "\n",
    "- You have to fill in the code in this notebook and upload it back to Blackboard for submission. Please remember to rename your file as \"Lab1b_[YOUR FIRSTNAME]_[YOUR LASTNAME].ipynb\" (e.g. Lab1b_George_Washington.ipynb).\n",
    "\n",
    "- You may look up resources online like python docs and stackoverflow. You may look up topics, but not the questions themselves.\n",
    "\n",
    "# Functions\n",
    "\n",
    "Python has a number of built-in functions such as _print()_.<br>\n",
    "But you can define your own functions as well, and then use them repeatedly.\n",
    "\n",
    "The function defined below computes and prints the circumference of a circle. (For explanations, see below.)"
   ]
  },
  {
   "cell_type": "code",
   "execution_count": 1,
   "metadata": {
    "id": "vnb5K_NI8wfL"
   },
   "outputs": [
    {
     "name": "stdout",
     "output_type": "stream",
     "text": [
      "Radius: 1 Circumference: 6.283185307179586\n",
      "Radius: 2.5 Circumference: 15.707963267948966\n"
     ]
    }
   ],
   "source": [
    "import math\n",
    "\n",
    "def circle_circumference(radius: float) -> None:\n",
    "    circumference = 2 * math.pi * radius\n",
    "    print('Radius:', radius, 'Circumference:', circumference)\n",
    "\n",
    "circle_circumference(1)\n",
    "circle_circumference(2.5)"
   ]
  },
  {
   "cell_type": "markdown",
   "metadata": {
    "id": "7co0cW-y83kN"
   },
   "source": [
    "Explanations\n",
    "- The first line imports a Python package called [math](https://docs.python.org/3/library/math.html). It provides functions such as _math.log()_ and constants such as _math.pi_ (3.14159...).\n",
    "- The keyword __def__ starts the definition of a new function. It is followed by the name of the function, _circle_circumference()_.\n",
    "- A function has 0 or more __parameters__ (inside the parentheses). In this case there is 1 parameter, _radius_.\n",
    "- Optionally, you can provide __type hints__ for the parameters and the result, such as _float_ for the parameter _radius_. Such hints can improve documentation and can help IDEs (integrated develpment environments) to find program inconsistencies. The _None_ after the -> indicates the expected return type of the function.\n",
    "- This function prints the result, without returning a value.\n",
    "- Below is a more compact version of the same function, but a little less informative."
   ]
  },
  {
   "cell_type": "code",
   "execution_count": 2,
   "metadata": {
    "id": "RbgWAWqi81fr"
   },
   "outputs": [
    {
     "name": "stdout",
     "output_type": "stream",
     "text": [
      "6.283185307179586\n",
      "15.707963267948966\n"
     ]
    }
   ],
   "source": [
    "import math\n",
    "\n",
    "def circle_circumference(radius):\n",
    "    print(2 * math.pi * radius)\n",
    "\n",
    "circle_circumference(1)\n",
    "circle_circumference(2.5)"
   ]
  },
  {
   "cell_type": "markdown",
   "metadata": {
    "id": "AsIDwlct9Ajy"
   },
   "source": [
    "# Q1. [10 Points]\n",
    "---\n",
    "Write a function **bmi_category** to compute and print the BMI (Body Mass Index) category of a person based on their weight (in kilograms) and height (in meters).\n",
    "\n",
    "If the BMI is less than 18.5, the category is \"Underweight\".<br>\n",
    "If the BMI is between 18.5 and 25 (exclusive), the category is \"Normal weight\".<br>\n",
    "If the BMI is between 25 and 30 (exclusive), the category is \"Overweight\".<br>\n",
    "If the BMI is 30 or higher, the category is \"Obese\".\n",
    "\n",
    "The BMI is calculated using the formula:<br>\n",
    "BMI = weight / (height ** 2)\n",
    "\n",
    "Function name: bmi_category<br>\n",
    "Input: weight (float), height (float)<br>\n",
    "Print: BMI category<br>\n",
    "Output/return: None"
   ]
  },
  {
   "cell_type": "code",
   "execution_count": 159,
   "metadata": {
    "id": "dWsrZb27887p"
   },
   "outputs": [],
   "source": [
    "# Insert your function bmi_category in this code cell. Do not remove or modify this line.\n",
    "def bmi_category(weight: float,height: float):\n",
    "    try:\n",
    "        if height>0:\n",
    "            bmi = weight/height**2\n",
    "            if bmi<18.5:\n",
    "                print(\"Underweight\")\n",
    "            elif 18.5 <= bmi < 25:\n",
    "                print(\"Normal weight\")\n",
    "            elif 25 <= bmi < 30:\n",
    "                print(\"Overweight\")\n",
    "            elif bmi >=30:\n",
    "                print(\"Obese\")\n",
    "        else:\n",
    "            print(\"Invalid Height, it must be greater than zero\")\n",
    "    except TypeError:\n",
    "        print(\"Only numerical values are allowed\")"
   ]
  },
  {
   "cell_type": "code",
   "execution_count": 161,
   "metadata": {
    "id": "bLbg50tAN2xe"
   },
   "outputs": [
    {
     "name": "stdout",
     "output_type": "stream",
     "text": [
      "Normal weight\n",
      "Underweight\n",
      "Overweight\n",
      "Obese\n"
     ]
    }
   ],
   "source": [
    "# Open test\n",
    "bmi_category(70, 1.75)  # should print: Normal weight\n",
    "bmi_category(50, 1.70)  # should print: Underweight\n",
    "bmi_category(95, 1.80)  # should print: Overweight\n",
    "bmi_category(110, 1.60) # should print: Obese"
   ]
  },
  {
   "cell_type": "markdown",
   "metadata": {
    "id": "hvE8MgMx9_dY"
   },
   "source": [
    "# Q2. [10 points]\n",
    "\n",
    "Write a function **sum_even** that takes a list of integers and returns the sum of all even numbers in the list.\n",
    "\n",
    "Function Name: sum_even<br>\n",
    "Input: A list of integers<br>\n",
    "Output: An integer"
   ]
  },
  {
   "cell_type": "code",
   "execution_count": 256,
   "metadata": {
    "id": "fC3FMsxl96ut"
   },
   "outputs": [],
   "source": [
    "# Insert your function sum_even in this code cell. Do not remove or modify this line.\n",
    "def sum_even(l_int):\n",
    "    try:\n",
    "        if len(l_int)>0:\n",
    "            return sum(i for i in l_int if i%2==0)\n",
    "        else:\n",
    "            return None\n",
    "    except TypeError:\n",
    "        print(\"Only numerical entries are allowed\")"
   ]
  },
  {
   "cell_type": "code",
   "execution_count": 258,
   "metadata": {
    "id": "GWecNwJOOIiQ"
   },
   "outputs": [
    {
     "name": "stdout",
     "output_type": "stream",
     "text": [
      "6\n",
      "0\n"
     ]
    }
   ],
   "source": [
    "# Open test\n",
    "print(sum_even([1, 2, 3, 4, 5]))  # Output: 6\n",
    "print(sum_even([7, 9, 11]))       # Output: 0"
   ]
  },
  {
   "cell_type": "markdown",
   "metadata": {
    "id": "xiEPnj--_g4-"
   },
   "source": [
    "# Q3. [10 points]\n",
    "\n",
    "Write a function **is_right_triangle** to check if a triangle with three given side lengths is a [right triangle]( https://en.wikipedia.org/wiki/Right_triangle).<br>\n",
    "A triangle is a right triangle if the square of the largest side equals the sum of the squares of the other two sides.\n",
    "\n",
    "Function Name: is_right_triangle<br>\n",
    "Input: 3 arguments, all of type float<br>\n",
    "Output: bool\n"
   ]
  },
  {
   "cell_type": "code",
   "execution_count": 312,
   "metadata": {
    "id": "jmeO2Sc4_Fs7"
   },
   "outputs": [],
   "source": [
    "# Insert your function is_right_triangle in this code cell. Do not remove or modify this line.\n",
    "def is_right_triangle(a,b,c):\n",
    "    try:\n",
    "        l_s = sorted([abs(a), abs(b), abs(c)])\n",
    "        return l_s[2]**2 == l_s[0]**2 + l_s[1]**2\n",
    "    except TypeError:\n",
    "        print(\"Enter only numerical values\")\n",
    "        "
   ]
  },
  {
   "cell_type": "code",
   "execution_count": 320,
   "metadata": {
    "id": "21eCmVRjOSJD"
   },
   "outputs": [
    {
     "name": "stdout",
     "output_type": "stream",
     "text": [
      "True\n",
      "False\n"
     ]
    }
   ],
   "source": [
    "# Open test\n",
    "print(is_right_triangle(3, 4, 5))  # Output: True\n",
    "print(is_right_triangle(5, 6, 7))  # Output: False"
   ]
  },
  {
   "cell_type": "markdown",
   "metadata": {
    "id": "o3BqTARpAJgJ"
   },
   "source": [
    "# Q4. Bonus question [5 extra points]\n",
    "\n",
    "This question is optional. But we encourage you to do it!\n",
    "\n",
    "Write a robust function to read a valid positive integer from user input.<br>\n",
    "If the input is not a valid positive integer, keep prompting the user for a positive integer,\n",
    "repeatedly if necessary (using the same prompt).<br> \n",
    "However, if the user enters nothing (an empty string) at any time, return None.<br>\n",
    "Note: The function should accept \" 5 \" (with leading/trailing spaces), but reject \"5.0\" (float).\n",
    "\n",
    "Function name: input_positive_integer<br>\n",
    "Input: A prompt string (optional, default: \"Enter a positive integer: \")<br>\n",
    "Output: The entered integer or None"
   ]
  },
  {
   "cell_type": "code",
   "execution_count": 361,
   "metadata": {
    "id": "nfi8gysK_x0o"
   },
   "outputs": [],
   "source": [
    "def input_positive_integer(prompt: str = \"Enter a positive integer: \") -> int | None:\n",
    "    #pass  # replace this line with your code\n",
    "    while True:\n",
    "        user_input = input(prompt).strip()\n",
    "        \n",
    "        if user_input == \"\":\n",
    "            return None\n",
    "        if user_input.isdigit() and int(user_input) > 0:\n",
    "            return int(user_input)\n",
    "            \n",
    "        print(\"Invalid input.\")\n",
    "        "
   ]
  },
  {
   "cell_type": "code",
   "execution_count": 363,
   "metadata": {
    "id": "nfi8gysK_x0o"
   },
   "outputs": [
    {
     "name": "stdin",
     "output_type": "stream",
     "text": [
      "Enter a positive integer:  0\n"
     ]
    },
    {
     "name": "stdout",
     "output_type": "stream",
     "text": [
      "Invalid input.\n"
     ]
    },
    {
     "name": "stdin",
     "output_type": "stream",
     "text": [
      "Enter a positive integer:  5.0\n"
     ]
    },
    {
     "name": "stdout",
     "output_type": "stream",
     "text": [
      "Invalid input.\n"
     ]
    },
    {
     "name": "stdin",
     "output_type": "stream",
     "text": [
      "Enter a positive integer:  -4\n"
     ]
    },
    {
     "name": "stdout",
     "output_type": "stream",
     "text": [
      "Invalid input.\n"
     ]
    },
    {
     "name": "stdin",
     "output_type": "stream",
     "text": [
      "Enter a positive integer:        5    \n"
     ]
    },
    {
     "name": "stdout",
     "output_type": "stream",
     "text": [
      "Positive integer entered: 5\n"
     ]
    },
    {
     "name": "stdin",
     "output_type": "stream",
     "text": [
      "Introduzca un número entero positivo:  \n"
     ]
    },
    {
     "name": "stdout",
     "output_type": "stream",
     "text": [
      "Número: None\n"
     ]
    }
   ],
   "source": [
    "print('Positive integer entered:', input_positive_integer())\n",
    "print('Número:', input_positive_integer('Introduzca un número entero positivo: '))"
   ]
  }
 ],
 "metadata": {
  "colab": {
   "provenance": []
  },
  "kernelspec": {
   "display_name": "Python [conda env:base] *",
   "language": "python",
   "name": "conda-base-py"
  },
  "language_info": {
   "codemirror_mode": {
    "name": "ipython",
    "version": 3
   },
   "file_extension": ".py",
   "mimetype": "text/x-python",
   "name": "python",
   "nbconvert_exporter": "python",
   "pygments_lexer": "ipython3",
   "version": "3.12.7"
  }
 },
 "nbformat": 4,
 "nbformat_minor": 4
}
