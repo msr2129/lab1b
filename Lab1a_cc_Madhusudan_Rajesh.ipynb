{
 "cells": [
  {
   "cell_type": "markdown",
   "id": "b057523d-39a2-48d9-8803-e86c95056ba9",
   "metadata": {},
   "source": [
    "## __Chocolate Challenge__"
   ]
  },
  {
   "cell_type": "code",
   "execution_count": 9,
   "id": "fecb8d9c-972c-46e4-a2df-8d5fdac7f69f",
   "metadata": {},
   "outputs": [
    {
     "name": "stdin",
     "output_type": "stream",
     "text": [
      "Enter the temperature you want to convert:  -23.67 C\n"
     ]
    },
    {
     "name": "stdout",
     "output_type": "stream",
     "text": [
      "-23.67 degrees Celcius = 18.85 degrees Fahrenheit\n"
     ]
    }
   ],
   "source": [
    "import re                                                                               # Importing regular expression package\n",
    "\n",
    "def temp_conv(s_temp):\n",
    "    pattern = r\"(-?[\\d.]+)\\s*(°?C|°?F|degrees\\s*Celsius|degrees\\s*Fahrenheit|C|F)?\"     # Defining a pattern to identify the temperature value and its unit\n",
    "    \n",
    "    match = re.search(pattern, s_temp)                                                  # searching the defined pattern in the input string\n",
    "\n",
    "    if match and match.group(2):\n",
    "        pattern_cf = r\"(C|F)\"\n",
    "        temp = float(match.group(1))                           # Assiging the temperature value\n",
    "        t_match = re.search(pattern_cf,match.group(2))         # Filtering °\n",
    "        unit = t_match.group(1)                                # Assiging the unit\n",
    "    \n",
    "        if(unit == 'F'):\n",
    "            temp_c = float((temp-32)*5/9)                      # Formula (Fahrenheit to Celsius)\n",
    "            print(temp,'degrees Fahrenheit =',round(temp_c,2),'degrees Celcius')\n",
    "        elif(unit == 'C'):                  \n",
    "            temp_f = float((temp*5/9) + 32)                    # Formula (Celsius to Fahrenheit)\n",
    "            print(temp,'degrees Celcius =',round(temp_f,2),'degrees Fahrenheit')\n",
    "        else:\n",
    "            print(\"Please enter the unit along with the temperature value\")\n",
    "    else:\n",
    "        print(\"Please make sure you enter the correct temperature unit. \\nTry again!!\")\n",
    "        main()                                                 # Prompting until the correct unit is entered\n",
    "\n",
    "def main():\n",
    "    temp_conv(input(\"Enter the temperature you want to convert: \"))                                          \n",
    "\n",
    "if __name__ == \"__main__\":\n",
    "    main()"
   ]
  },
  {
   "cell_type": "code",
   "execution_count": null,
   "id": "fbee96f9-41ea-4e33-bbf0-6612e8d7e05c",
   "metadata": {},
   "outputs": [],
   "source": []
  }
 ],
 "metadata": {
  "kernelspec": {
   "display_name": "Python 3 (ipykernel)",
   "language": "python",
   "name": "python3"
  },
  "language_info": {
   "codemirror_mode": {
    "name": "ipython",
    "version": 3
   },
   "file_extension": ".py",
   "mimetype": "text/x-python",
   "name": "python",
   "nbconvert_exporter": "python",
   "pygments_lexer": "ipython3",
   "version": "3.13.1"
  }
 },
 "nbformat": 4,
 "nbformat_minor": 5
}
