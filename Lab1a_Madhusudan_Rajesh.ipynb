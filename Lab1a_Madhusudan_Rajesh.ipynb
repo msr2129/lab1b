{
 "cells": [
  {
   "cell_type": "markdown",
   "id": "34f88a12-eaaf-4b9b-8d2a-c970da5a4882",
   "metadata": {},
   "source": [
    "## __First Python Program__"
   ]
  },
  {
   "cell_type": "code",
   "execution_count": 11,
   "id": "ed35569e-4f78-4028-af10-9103aa2d2e7a",
   "metadata": {
    "scrolled": true
   },
   "outputs": [
    {
     "name": "stdout",
     "output_type": "stream",
     "text": [
      "Hello, World!!\n"
     ]
    }
   ],
   "source": [
    "print('Hello, World!!')"
   ]
  },
  {
   "cell_type": "markdown",
   "id": "c18e7a7b-15f2-452d-a22a-0c7ea4ef86b6",
   "metadata": {},
   "source": [
    "## __Second Python Program__"
   ]
  },
  {
   "cell_type": "code",
   "execution_count": 19,
   "id": "92cee503-6b0b-439c-a548-8ebe4ddd8ad8",
   "metadata": {
    "scrolled": true
   },
   "outputs": [
    {
     "name": "stdin",
     "output_type": "stream",
     "text": [
      "Enter the temperature in fahrenheit:  45\n"
     ]
    },
    {
     "name": "stdout",
     "output_type": "stream",
     "text": [
      "45.0 degrees Fahrenheit = 7.2 degrees Celcius\n"
     ]
    }
   ],
   "source": [
    "temp_f = float(input(\"Enter the temperature in fahrenheit: \"))\n",
    "temp_c = (temp_f-32)*5/9                                                #Formula to convert Fahrenheit to Celcius\n",
    "print(temp_f,'degrees Fahrenheit =',round(temp_c,1),'degrees Celcius') "
   ]
  },
  {
   "cell_type": "markdown",
   "id": "68182ffa-b73a-4e8f-a4b1-21f1b12984be",
   "metadata": {},
   "source": [
    "## __Third Python Program__"
   ]
  },
  {
   "cell_type": "code",
   "execution_count": 20,
   "id": "b6e9f90c-dc1b-4ea3-9d7c-4382739f1164",
   "metadata": {},
   "outputs": [
    {
     "name": "stdin",
     "output_type": "stream",
     "text": [
      "Enter the temperature in Celcius:  -10\n"
     ]
    },
    {
     "name": "stdout",
     "output_type": "stream",
     "text": [
      "-10.0 degrees Celcius = 14.0 degrees Fahrenheit\n"
     ]
    }
   ],
   "source": [
    "temp_c = float(input(\"Enter the temperature in Celcius: \"))\n",
    "temp_f = (temp_c*9/5)+32                                               #Formula to convert Celcius to Fahrenheit\n",
    "print(temp_c,'degrees Celcius =',round(temp_f,1),'degrees Fahrenheit')"
   ]
  }
 ],
 "metadata": {
  "kernelspec": {
   "display_name": "Python 3 (ipykernel)",
   "language": "python",
   "name": "python3"
  },
  "language_info": {
   "codemirror_mode": {
    "name": "ipython",
    "version": 3
   },
   "file_extension": ".py",
   "mimetype": "text/x-python",
   "name": "python",
   "nbconvert_exporter": "python",
   "pygments_lexer": "ipython3",
   "version": "3.13.1"
  }
 },
 "nbformat": 4,
 "nbformat_minor": 5
}
